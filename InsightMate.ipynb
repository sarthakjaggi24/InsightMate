{
 "cells": [
  {
   "cell_type": "code",
   "execution_count": 27,
   "id": "c205fe20",
   "metadata": {},
   "outputs": [],
   "source": [
    "from dotenv import load_dotenv\n",
    "import os\n",
    "from langchain_community.document_loaders import PyPDFLoader, TextLoader\n",
    "from langchain.text_splitter import RecursiveCharacterTextSplitter\n",
    "from langchain.embeddings import OpenAIEmbeddings\n",
    "from langchain.vectorstores import FAISS\n",
    "from langchain.chains import RetrievalQA\n",
    "from langchain.chat_models import ChatOpenAI\n",
    "from langchain.prompts import PromptTemplate\n",
    "from langchain_core.documents import Document"
   ]
  },
  {
   "cell_type": "code",
   "execution_count": 4,
   "id": "7c1614ce",
   "metadata": {},
   "outputs": [],
   "source": [
    "load_dotenv()\n",
    "openai_key = os.getenv(\"OPENAI_API_KEY\")\n",
    "\n",
    "if not openai_key:\n",
    "    raise ValueError(\"OPENAI_API_KEY not found in .env file.\")"
   ]
  },
  {
   "cell_type": "code",
   "execution_count": 5,
   "id": "f9846482",
   "metadata": {},
   "outputs": [],
   "source": [
    "from pathlib import Path"
   ]
  },
  {
   "cell_type": "code",
   "execution_count": 6,
   "id": "33045ed8",
   "metadata": {},
   "outputs": [],
   "source": [
    "docs = []\n",
    "\n",
    "data_path = Path(\"data\")\n",
    "for file in data_path.iterdir():\n",
    "    if file.suffix == \".pdf\":\n",
    "        loader = PyPDFLoader(str(file))\n",
    "        docs.extend(loader.load())\n",
    "    elif file.suffix == \".txt\":\n",
    "        loader = TextLoader(str(file))\n",
    "        docs.extend(loader.load())"
   ]
  },
  {
   "cell_type": "code",
   "execution_count": 7,
   "id": "8b26adb5",
   "metadata": {},
   "outputs": [
    {
     "name": "stdout",
     "output_type": "stream",
     "text": [
      "Loaded 2 document chunks.\n"
     ]
    }
   ],
   "source": [
    "print(f\"Loaded {len(docs)} document chunks.\")"
   ]
  },
  {
   "cell_type": "code",
   "execution_count": 8,
   "id": "61f8bdff",
   "metadata": {},
   "outputs": [],
   "source": [
    "text_splitter = RecursiveCharacterTextSplitter(\n",
    "    chunk_size=800,\n",
    "    chunk_overlap=200,\n",
    "    separators=[\"\\n\\n\", \"\\n\", \".\", \"!\", \"?\", \" \", \"\"]\n",
    ")"
   ]
  },
  {
   "cell_type": "code",
   "execution_count": 9,
   "id": "56201a67",
   "metadata": {},
   "outputs": [],
   "source": [
    "chunks = text_splitter.split_documents(docs)"
   ]
  },
  {
   "cell_type": "code",
   "execution_count": 10,
   "id": "1d47645b",
   "metadata": {},
   "outputs": [
    {
     "name": "stdout",
     "output_type": "stream",
     "text": [
      "Split into 3 chunks.\n",
      "Sample chunk preview:\n",
      "\n",
      "Subject: Project Phoenix Development Update  \n",
      "From: operations@company.com  \n",
      "To: project-phoenix@company.com  \n",
      "Date: June 18, 2025\n",
      "\n",
      "Hi team,\n",
      "\n",
      "As discussed in our last meeting, Project Phoenix has officially moved into the **development phase**.  \n",
      "The model architecture has been approved and assigned...\n"
     ]
    }
   ],
   "source": [
    "print(f\"Split into {len(chunks)} chunks.\")\n",
    "print(f\"Sample chunk preview:\\n\\n{chunks[0].page_content[:300]}...\")"
   ]
  },
  {
   "cell_type": "code",
   "execution_count": 11,
   "id": "f8977a2f",
   "metadata": {},
   "outputs": [
    {
     "name": "stderr",
     "output_type": "stream",
     "text": [
      "C:\\Users\\jaggi\\AppData\\Local\\Temp\\ipykernel_27196\\2497576997.py:1: LangChainDeprecationWarning: The class `OpenAIEmbeddings` was deprecated in LangChain 0.0.9 and will be removed in 1.0. An updated version of the class exists in the :class:`~langchain-openai package and should be used instead. To use it run `pip install -U :class:`~langchain-openai` and import as `from :class:`~langchain_openai import OpenAIEmbeddings``.\n",
      "  embeddings = OpenAIEmbeddings()\n"
     ]
    }
   ],
   "source": [
    "embeddings = OpenAIEmbeddings()"
   ]
  },
  {
   "cell_type": "code",
   "execution_count": 13,
   "id": "1de162aa",
   "metadata": {},
   "outputs": [
    {
     "name": "stdout",
     "output_type": "stream",
     "text": [
      "FAISS vector store created successfully.\n"
     ]
    }
   ],
   "source": [
    "vector_store = FAISS.from_documents(chunks, embeddings)\n",
    "print(\"FAISS vector store created successfully.\")"
   ]
  },
  {
   "cell_type": "code",
   "execution_count": 28,
   "id": "1786fffd",
   "metadata": {},
   "outputs": [],
   "source": [
    "prompt_template = \"\"\"\n",
    "You are a helpful assistant for enterprise teams.\n",
    "Respond to the following question using ONLY the information from the context provided below.\n",
    "\n",
    "Only show information that someone in the role of a \"{role}\" is allowed to access.\n",
    "\n",
    "Context:\n",
    "{context}\n",
    "\n",
    "Question:\n",
    "{question}\n",
    "\n",
    "Answer:\n",
    "\"\"\""
   ]
  },
  {
   "cell_type": "code",
   "execution_count": 29,
   "id": "c04dadfa",
   "metadata": {},
   "outputs": [],
   "source": [
    "prompt = PromptTemplate(\n",
    "    input_variables=[\"context\", \"question\", \"role\"],\n",
    "    template=prompt_template\n",
    ")"
   ]
  },
  {
   "cell_type": "code",
   "execution_count": 30,
   "id": "e48b965c",
   "metadata": {},
   "outputs": [],
   "source": [
    "llm = ChatOpenAI(temperature=0.2, model=\"gpt-3.5-turbo\")"
   ]
  },
  {
   "cell_type": "code",
   "execution_count": 31,
   "id": "ed44c6e6",
   "metadata": {},
   "outputs": [],
   "source": [
    "def ask_question_with_role(role: str, question: str):\n",
    "    docs: list[Document] = vector_store.similarity_search(question, k=4)\n",
    "    context = \"\\n\\n\".join(doc.page_content for doc in docs)\n",
    "    final_prompt = prompt.format(context=context, question=question, role=role)\n",
    "    response = llm.invoke(final_prompt)\n",
    "\n",
    "    return response.content"
   ]
  },
  {
   "cell_type": "code",
   "execution_count": 32,
   "id": "ec16a439",
   "metadata": {},
   "outputs": [
    {
     "data": {
      "text/plain": [
       "'The current status of Project Phoenix is that the development phase has officially begun, with the model architecture approved and assigned to the engineering team. Backend development has started, API integration deadlines have been shared with the tech lead, and compliance documentation is still under internal review. The team is reminded to complete sprint planning by June 20, with the next milestone being to complete the MVP by July 10, 2025.'"
      ]
     },
     "execution_count": 32,
     "metadata": {},
     "output_type": "execute_result"
    }
   ],
   "source": [
    "ask_question_with_role(\"Manager\", \"What is the current status of Project Phoenix?\")"
   ]
  },
  {
   "cell_type": "code",
   "execution_count": 33,
   "id": "c4697b8f",
   "metadata": {},
   "outputs": [
    {
     "data": {
      "text/plain": [
       "'Backend Developer: Aditi Jain'"
      ]
     },
     "execution_count": 33,
     "metadata": {},
     "output_type": "execute_result"
    }
   ],
   "source": [
    "ask_question_with_role(\"Intern\", \"Who is handling backend development?\")"
   ]
  },
  {
   "cell_type": "code",
   "execution_count": 34,
   "id": "80604a6e",
   "metadata": {},
   "outputs": [
    {
     "data": {
      "text/plain": [
       "'Compliance documentation is still under internal review.'"
      ]
     },
     "execution_count": 34,
     "metadata": {},
     "output_type": "execute_result"
    }
   ],
   "source": [
    "ask_question_with_role(\"HR\", \"Is the compliance documentation completed?\")"
   ]
  },
  {
   "cell_type": "code",
   "execution_count": null,
   "id": "dee9abb8",
   "metadata": {},
   "outputs": [],
   "source": []
  }
 ],
 "metadata": {
  "kernelspec": {
   "display_name": "Python 3",
   "language": "python",
   "name": "python3"
  },
  "language_info": {
   "codemirror_mode": {
    "name": "ipython",
    "version": 3
   },
   "file_extension": ".py",
   "mimetype": "text/x-python",
   "name": "python",
   "nbconvert_exporter": "python",
   "pygments_lexer": "ipython3",
   "version": "3.11.13"
  }
 },
 "nbformat": 4,
 "nbformat_minor": 5
}
